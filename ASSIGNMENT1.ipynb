{
 "cells": [
  {
   "cell_type": "code",
   "execution_count": 16,
   "id": "958ba819",
   "metadata": {},
   "outputs": [],
   "source": [
    "##PYTHON ASSIGNMENT 1\"\"\"\n",
    "## 1- In the below elements which of them are values or an expression? eg:- values can be integer OR string AND expressions will be mathematical operators.\n",
    "##ANSWER- HELLO,-87.8,6\n",
    "\n",
    "##2. What is the difference between string and variable?\n",
    "##ANSWER-A STRING IS IMMUTABLE BUT A VARIABLE IS MUTABLE.A variable can store a string, int, float, class, etc.\n",
    "\n",
    "##3. Describe three different data types.\n",
    "##ANSWER-INT,FLOAT,STRING.\n",
    "\n",
    "##4. What is an expression made up of? What do all expressions do?\n",
    "##ANSWER-Expressions are combinations of variables , numbers, and at least one arithmetic operation.Expressions represent a value.\n",
    "\n",
    "##5. This assignment statements, like spam = 10. What is the difference between an expression and a statement?\n",
    "##ANSWER-An expression evaluates to a value. A statement does something.\n",
    "\n",
    "##6-fter running the following code, what does the variable bacon contain?bacon = 22 ##bacon + 1\n",
    "##ANSWER- 23\n",
    "\n",
    "##7. What should the values of the following two terms be?'spam' + 'spamspam''spam' * 3\n",
    "##ANSWER-'spamspamspam'\n",
    "\n",
    "##8. Why is eggs a valid variable name while 100 is invalid?\n",
    "##ANSWER-Variable names cannot begin with a number.\n",
    "\n",
    "##9. What three functions can be used to get the integer, floating-point number, or string version of a value?\n",
    "##ANSWER= int(),float(),str()\n",
    "\n",
    "##10. Why does this expression cause an error? How can you fix it?'I have eaten ' + 99 + ' burritos.'\n",
    "##ANSWER- because 99 is an integer, strings only can be concatenated to other strings."
   ]
  },
  {
   "cell_type": "code",
   "execution_count": null,
   "id": "f754ddeb",
   "metadata": {},
   "outputs": [],
   "source": []
  }
 ],
 "metadata": {
  "kernelspec": {
   "display_name": "Python 3 (ipykernel)",
   "language": "python",
   "name": "python3"
  },
  "language_info": {
   "codemirror_mode": {
    "name": "ipython",
    "version": 3
   },
   "file_extension": ".py",
   "mimetype": "text/x-python",
   "name": "python",
   "nbconvert_exporter": "python",
   "pygments_lexer": "ipython3",
   "version": "3.9.7"
  }
 },
 "nbformat": 4,
 "nbformat_minor": 5
}
